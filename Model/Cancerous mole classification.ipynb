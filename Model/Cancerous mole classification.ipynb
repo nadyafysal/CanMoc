{
 "cells": [
  {
   "cell_type": "markdown",
   "metadata": {
    "id": "BmnACp0pVVUd"
   },
   "source": [
    "# <p style=\"text-align: center;\">Classification of Cancerous Mole Using CNN</p>"
   ]
  },
  {
   "cell_type": "markdown",
   "metadata": {
    "id": "CdijRkfyVVUl"
   },
   "source": [
    "### **1. Import the Required Libraries**"
   ]
  },
  {
   "cell_type": "code",
   "execution_count": null,
   "metadata": {
    "id": "d7AmquZpVVUm"
   },
   "outputs": [],
   "source": [
    "import numpy as np\n",
    "import matplotlib.pyplot as plt\n",
    "import seaborn as sns\n",
    "%matplotlib inline\n",
    "\n",
    "import cv2\n",
    "import os\n",
    "os.environ[\"TF_CPP_MIN_LOG_LEVEL\"] = \"2\"\n",
    "import warnings\n",
    "warnings.filterwarnings('ignore')\n",
    "\n",
    "from sklearn.metrics import confusion_matrix, classification_report\n",
    "\n",
    "import tensorflow as tf\n",
    "from tensorflow.keras.models import Sequential\n",
    "from tensorflow.keras.layers import Activation, BatchNormalization, Conv2D, Dense, Dropout, Flatten, MaxPooling2D\n",
    "from tensorflow.keras.preprocessing.image import ImageDataGenerator\n",
    "from tensorflow.keras.optimizers import Adam\n",
    "from tensorflow.keras.losses import CategoricalCrossentropy\n",
    "from tensorflow.keras.regularizers import l2\n",
    "from tensorflow.keras.callbacks import ReduceLROnPlateau, EarlyStopping"
   ]
  },
  {
   "cell_type": "markdown",
   "metadata": {
    "id": "AJjRvePnVVUn"
   },
   "source": [
    "### **2. Load the Image Training and Validation Datasets**"
   ]
  },
  {
   "cell_type": "markdown",
   "metadata": {
    "id": "-ermoAQHVVUn"
   },
   "source": [
    "#### **i. Get the Image Dataset Paths**"
   ]
  },
  {
   "cell_type": "code",
   "execution_count": null,
   "metadata": {
    "id": "VP0RKyLzVVUo"
   },
   "outputs": [],
   "source": [
    "train_dataset_path = 'Data/train'\n",
    "validation_dataset_path = 'Data/valid'"
   ]
  },
  {
   "cell_type": "markdown",
   "metadata": {
    "id": "bDQXo-kOVVUo"
   },
   "source": [
    "#### **ii. Load Image Datasets and Apply Augmentations**"
   ]
  },
  {
   "cell_type": "markdown",
   "metadata": {
    "id": "7ktmid1uVVUp"
   },
   "source": [
    "Since the images present in the datasets are 150x150px in size, the image height and width are taken as 150, 150 respectively. The batch size value can be changed if required."
   ]
  },
  {
   "cell_type": "code",
   "execution_count": null,
   "metadata": {
    "id": "5VGfxeWpVVUp"
   },
   "outputs": [],
   "source": [
    "IMG_WIDTH = 150\n",
    "IMG_HEIGHT = 150\n",
    "BATCH_SIZE = 128"
   ]
  },
  {
   "cell_type": "markdown",
   "metadata": {
    "id": "V0QoqSbwVVUq"
   },
   "source": [
    "Loading the training dataset and applying augmentations on it."
   ]
  },
  {
   "cell_type": "code",
   "execution_count": null,
   "metadata": {
    "colab": {
     "base_uri": "https://localhost:8080/"
    },
    "id": "ROpS_E69VVUq",
    "outputId": "9b3105a1-0fa5-4b86-ed4b-84183c02d94e",
    "tags": []
   },
   "outputs": [],
   "source": [
    "train_datagen = ImageDataGenerator(rescale=1.0/255)\n",
    "train_generator = train_datagen.flow_from_directory(train_dataset_path,\n",
    "                                                   target_size=(IMG_WIDTH, IMG_HEIGHT),\n",
    "                                                   batch_size=BATCH_SIZE,\n",
    "                                                   class_mode='categorical',\n",
    "                                                   shuffle=True)"
   ]
  },
  {
   "cell_type": "markdown",
   "metadata": {
    "id": "5q1qWH9LVVUs"
   },
   "source": [
    "Loading the validation dataset."
   ]
  },
  {
   "cell_type": "code",
   "execution_count": null,
   "metadata": {
    "colab": {
     "base_uri": "https://localhost:8080/"
    },
    "id": "WkaP_efNVVUs",
    "outputId": "a9a79ba8-40e0-4d94-fd68-cf5f6308d33e",
    "tags": []
   },
   "outputs": [],
   "source": [
    "validation_datagen = ImageDataGenerator(rescale=1.0/255)\n",
    "validation_generator = validation_datagen.flow_from_directory(validation_dataset_path,\n",
    "                                                             target_size=(IMG_WIDTH, IMG_HEIGHT),\n",
    "                                                             batch_size=BATCH_SIZE,\n",
    "                                                             class_mode='categorical',\n",
    "                                                             shuffle=True)"
   ]
  },
  {
   "cell_type": "markdown",
   "metadata": {
    "id": "zv4uxW-IVVUs"
   },
   "source": [
    "#### **iii. Get the Label Mappings**"
   ]
  },
  {
   "cell_type": "markdown",
   "metadata": {
    "id": "NchFDua3VVUs"
   },
   "source": [
    "The labels dictionary is made in order to retrive the class names against the label indices used for training the model"
   ]
  },
  {
   "cell_type": "code",
   "execution_count": null,
   "metadata": {
    "colab": {
     "base_uri": "https://localhost:8080/"
    },
    "id": "jpmoCDMJVVUt",
    "outputId": "9b198abb-023b-4405-8837-bec997e2dc28",
    "tags": []
   },
   "outputs": [],
   "source": [
    "labels = {value: key for key, value in train_generator.class_indices.items()}\n",
    "\n",
    "print(\"Label Mappings for classes present in the training and validation datasets\\n\")\n",
    "for key, value in labels.items():\n",
    "    print(f\"{key} : {value}\")"
   ]
  },
  {
   "cell_type": "markdown",
   "metadata": {
    "id": "h9GUnP-yVVUt"
   },
   "source": [
    "### **3. Plotting Sample Training Images**"
   ]
  },
  {
   "cell_type": "code",
   "execution_count": null,
   "metadata": {
    "colab": {
     "base_uri": "https://localhost:8080/",
     "height": 726
    },
    "id": "DnXzCRnCVVUt",
    "outputId": "9405e78d-d53f-4fd3-feef-f995cd194654",
    "tags": []
   },
   "outputs": [],
   "source": [
    "fig, ax = plt.subplots(nrows=2, ncols=5, figsize=(15, 12))\n",
    "idx = 0\n",
    "\n",
    "for i in range(2):\n",
    "    for j in range(5):\n",
    "        label = labels[np.argmax(train_generator[0][1][idx])]\n",
    "        ax[i, j].set_title(f\"{label}\")\n",
    "        ax[i, j].imshow(train_generator[0][0][idx][:, :, :])\n",
    "        ax[i, j].axis(\"off\")\n",
    "        idx += 1\n",
    "\n",
    "plt.tight_layout()\n",
    "plt.suptitle(\"Sample Training Images\", fontsize=21)\n",
    "plt.show()"
   ]
  },
  {
   "cell_type": "markdown",
   "metadata": {
    "id": "IlYBgYLyVVUu"
   },
   "source": [
    "### **4. Training a CNN Model**"
   ]
  },
  {
   "cell_type": "markdown",
   "metadata": {
    "id": "ZaBDwiRvVVUu"
   },
   "source": [
    "Since the training dataset is ready let's create a simple CNN Model to train on the image datasets"
   ]
  },
  {
   "cell_type": "markdown",
   "metadata": {
    "id": "BuBXc5mfVVUu"
   },
   "source": [
    "#### **i. Create a CNN Model**"
   ]
  },
  {
   "cell_type": "code",
   "execution_count": null,
   "metadata": {
    "tags": []
   },
   "outputs": [],
   "source": [
    "def create_model():\n",
    "    model = Sequential([\n",
    "        Conv2D(filters=16, kernel_size=(3, 3), padding='valid', input_shape=(IMG_WIDTH, IMG_HEIGHT, 3)),\n",
    "        MaxPooling2D(pool_size=(2, 2)),\n",
    "        \n",
    "        Conv2D(filters=32, kernel_size=(3, 3),activation = 'relu', padding='valid'),\n",
    "        MaxPooling2D(pool_size=(2, 2)),\n",
    "        \n",
    "        Conv2D(filters=16, kernel_size=(3, 3),activation = 'relu', padding='valid'),\n",
    "        MaxPooling2D(pool_size=(2, 2)),\n",
    "        \n",
    "        \n",
    "        Flatten(),\n",
    "        Dropout(0.5),\n",
    "      \n",
    "        \n",
    "        #Dense(units=64, activation='relu'),\n",
    "        Dense(units=256, activation='relu'),\n",
    "        Dense(units=3, activation='softmax')\n",
    "    ])\n",
    "    \n",
    "    return model"
   ]
  },
  {
   "cell_type": "code",
   "execution_count": null,
   "metadata": {
    "id": "Jt9QVUd9VVUv"
   },
   "outputs": [],
   "source": [
    "cnn_model = create_model()"
   ]
  },
  {
   "cell_type": "code",
   "execution_count": null,
   "metadata": {
    "colab": {
     "base_uri": "https://localhost:8080/"
    },
    "id": "6TA9J6fHVVUv",
    "outputId": "37ad7041-b7ed-499a-edee-fdeae18b9512"
   },
   "outputs": [],
   "source": [
    "print(cnn_model.summary())"
   ]
  },
  {
   "cell_type": "markdown",
   "metadata": {
    "id": "0B3ORjZoVVUw"
   },
   "source": [
    "#### **iv. Compile the Model**"
   ]
  },
  {
   "cell_type": "code",
   "execution_count": null,
   "metadata": {
    "id": "0vcTwzjUVVUw"
   },
   "outputs": [],
   "source": [
    "cnn_model.compile(optimizer='adam', loss=CategoricalCrossentropy(), metrics=['accuracy'])"
   ]
  },
  {
   "cell_type": "markdown",
   "metadata": {
    "id": "3pl69-N8VVUx"
   },
   "source": [
    "#### **v. Training the Model**"
   ]
  },
  {
   "cell_type": "code",
   "execution_count": null,
   "metadata": {
    "colab": {
     "base_uri": "https://localhost:8080/"
    },
    "id": "2ZWVji1yVVUx",
    "outputId": "07f378b5-72c1-47ec-db4d-e097400dadec"
   },
   "outputs": [],
   "source": [
    "history = cnn_model.fit(train_generator, epochs=30, validation_data=validation_generator)\n",
    "                       #verbose=2,\n",
    "                       #callbacks=[reduce_lr])"
   ]
  },
  {
   "cell_type": "markdown",
   "metadata": {
    "id": "eZCSFx7tVVUx"
   },
   "source": [
    "### **5. Plotting the Model Metrics**"
   ]
  },
  {
   "cell_type": "markdown",
   "metadata": {
    "id": "lMDxaUxmVVUx"
   },
   "source": [
    "#### **i. Plotting training and validation accuracy, loss and learning rate**"
   ]
  },
  {
   "cell_type": "code",
   "execution_count": null,
   "metadata": {
    "colab": {
     "background_save": true
    },
    "id": "j8Rr81HQVVUx"
   },
   "outputs": [],
   "source": [
    "train_accuracy = history.history['accuracy']\n",
    "val_accuracy = history.history['val_accuracy']\n",
    "\n",
    "train_loss = history.history['loss']\n",
    "val_loss = history.history['val_loss']\n",
    "\n",
    "#learning_rate = history.history['lr']"
   ]
  },
  {
   "cell_type": "markdown",
   "metadata": {
    "id": "hKJevcffVVUy"
   },
   "source": [
    "### **6. Testing the Model on Test Set**"
   ]
  },
  {
   "cell_type": "markdown",
   "metadata": {
    "id": "CnFf-BW1VVUy"
   },
   "source": [
    "Testing the model on the validation dataset because a seperate dataset for testing is not available."
   ]
  },
  {
   "cell_type": "code",
   "execution_count": null,
   "metadata": {
    "colab": {
     "background_save": true
    },
    "id": "gRcF7LYEVVUy"
   },
   "outputs": [],
   "source": [
    "test_dataset = 'Data/test'"
   ]
  },
  {
   "cell_type": "code",
   "execution_count": null,
   "metadata": {
    "colab": {
     "background_save": true
    },
    "id": "Mifp3dBAVVUz",
    "outputId": "ebae6955-2629-4cde-d113-4a78418e5780"
   },
   "outputs": [],
   "source": [
    "test_datagen = ImageDataGenerator(rescale=1.0/255)\n",
    "\n",
    "test_generator = test_datagen.flow_from_directory(test_dataset,\n",
    "                                                 shuffle=True,\n",
    "                                                 batch_size=BATCH_SIZE,\n",
    "                                                 target_size = (IMG_WIDTH, IMG_HEIGHT),\n",
    "                                                 class_mode='categorical')"
   ]
  },
  {
   "cell_type": "markdown",
   "metadata": {
    "id": "5DrBj0cMVVUz"
   },
   "source": [
    "### **7. Model Prediction on the Test Dataset**"
   ]
  },
  {
   "cell_type": "code",
   "execution_count": null,
   "metadata": {
    "colab": {
     "background_save": true
    },
    "id": "z9m88sMhVVUz",
    "outputId": "ca92b175-b1cd-4979-80b2-f8c505ec9c23"
   },
   "outputs": [],
   "source": [
    "predictions = cnn_model.predict(test_generator)"
   ]
  },
  {
   "cell_type": "code",
   "execution_count": null,
   "metadata": {},
   "outputs": [],
   "source": [
    "labels = {value: key for key, value in test_generator.class_indices.items()}\n",
    "\n",
    "print(\"Label Mappings for classes present in the training and validation datasets\\n\")\n",
    "for key, value in labels.items():\n",
    "    print(f\"{key} : {value}\")"
   ]
  },
  {
   "cell_type": "code",
   "execution_count": null,
   "metadata": {
    "colab": {
     "background_save": true
    },
    "id": "oK6RfYigVVU0",
    "outputId": "343b538a-241e-40fc-bc0e-64350b0f27da"
   },
   "outputs": [],
   "source": [
    "test_loss, test_accuracy = cnn_model.evaluate(test_generator, batch_size=BATCH_SIZE)"
   ]
  },
  {
   "cell_type": "code",
   "execution_count": null,
   "metadata": {
    "colab": {
     "background_save": true
    },
    "id": "ndopufAIVVU1",
    "outputId": "4284c23b-dc4d-40e7-a9f0-73c213a14e6d"
   },
   "outputs": [],
   "source": [
    "print(f\"Test Loss:     {test_loss}\")\n",
    "print(f\"Test Accuracy: {test_accuracy}\")"
   ]
  },
  {
   "cell_type": "markdown",
   "metadata": {
    "id": "9DZP8TULVVU1"
   },
   "source": [
    "The test loss and test accuracy is the same as validation loss and validation accuracy at the last step since the testing and validation datasets are same."
   ]
  },
  {
   "cell_type": "markdown",
   "metadata": {
    "id": "D5-CFXPmVVU1"
   },
   "source": [
    "### **8. Plotting the Classification Metrics**"
   ]
  },
  {
   "cell_type": "markdown",
   "metadata": {
    "id": "XnAkSTMCVVU2"
   },
   "source": [
    "### **i. Confusion Matrix**"
   ]
  },
  {
   "cell_type": "code",
   "execution_count": null,
   "metadata": {
    "colab": {
     "background_save": true
    },
    "id": "cFl4zAcTVVU2"
   },
   "outputs": [],
   "source": [
    "y_pred = np.argmax(predictions, axis=1)\n",
    "y_true = test_generator.classes"
   ]
  },
  {
   "cell_type": "code",
   "execution_count": null,
   "metadata": {
    "colab": {
     "background_save": true
    },
    "id": "fMlTFHizVVU2",
    "outputId": "7570c7cb-e0ba-410d-a722-f31b2cd6f5db"
   },
   "outputs": [],
   "source": [
    "cf_mtx = confusion_matrix(y_true, y_pred)\n",
    "\n",
    "group_counts = [\"{0:0.0f}\".format(value) for value in cf_mtx.flatten()]\n",
    "group_percentages = [\"{0:.2%}\".format(value) for value in cf_mtx.flatten()/np.sum(cf_mtx)]\n",
    "box_labels = [f\"{v1}\\n({v2})\" for v1, v2 in zip(group_counts, group_percentages)]\n",
    "box_labels = np.asarray(box_labels).reshape(3, 3)\n",
    "\n",
    "plt.figure(figsize = (12, 10))\n",
    "sns.heatmap(cf_mtx, xticklabels=labels.values(), yticklabels=labels.values(),\n",
    "           cmap=\"YlGnBu\", fmt=\"\", annot=box_labels)\n",
    "plt.xlabel('Predicted Classes')\n",
    "plt.ylabel('True Classes')\n",
    "plt.show()"
   ]
  },
  {
   "cell_type": "code",
   "execution_count": null,
   "metadata": {
    "colab": {
     "background_save": true
    },
    "id": "t6RAE0HaVVU2"
   },
   "outputs": [],
   "source": [
    "print(classification_report(y_true, y_pred, target_names=labels.values()))"
   ]
  },
  {
   "cell_type": "code",
   "execution_count": null,
   "metadata": {
    "colab": {
     "background_save": true
    },
    "id": "wopU8m22rvG4"
   },
   "outputs": [],
   "source": [
    "from tensorflow.keras.models import load_model"
   ]
  },
  {
   "cell_type": "code",
   "execution_count": null,
   "metadata": {},
   "outputs": [],
   "source": [
    "cnn_model.save(os.path.join('model','experiment1a.h5'))"
   ]
  }
 ],
 "metadata": {
  "colab": {
   "provenance": []
  },
  "kernelspec": {
   "display_name": "Python 3",
   "language": "python",
   "name": "python3"
  },
  "language_info": {
   "codemirror_mode": {
    "name": "ipython",
    "version": 3
   },
   "file_extension": ".py",
   "mimetype": "text/x-python",
   "name": "python",
   "nbconvert_exporter": "python",
   "pygments_lexer": "ipython3",
   "version": "3.8.8"
  }
 },
 "nbformat": 4,
 "nbformat_minor": 4
}
